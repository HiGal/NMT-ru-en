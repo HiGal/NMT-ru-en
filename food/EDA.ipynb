{
 "cells": [
  {
   "cell_type": "code",
   "execution_count": 56,
   "metadata": {},
   "outputs": [],
   "source": [
    "import sys\n",
    "sys.path.append('../')\n",
    "from matplotlib import pyplot as plt\n",
    "from tqdm.notebook import tqdm"
   ]
  },
  {
   "cell_type": "code",
   "execution_count": 15,
   "metadata": {},
   "outputs": [
    {
     "data": {
      "application/vnd.jupyter.widget-view+json": {
       "model_id": "07bc64eddfca4a9cb3ba7628adef7011",
       "version_major": 2,
       "version_minor": 0
      },
      "text/plain": [
       "HBox(children=(HTML(value='Downloading'), FloatProgress(value=0.0, max=1133.0), HTML(value='')))"
      ]
     },
     "metadata": {},
     "output_type": "display_data"
    },
    {
     "name": "stdout",
     "output_type": "stream",
     "text": [
      "\n"
     ]
    },
    {
     "data": {
      "application/vnd.jupyter.widget-view+json": {
       "model_id": "c9ccd4f463fb41e085ca6af4b1b56a1f",
       "version_major": 2,
       "version_minor": 0
      },
      "text/plain": [
       "HBox(children=(HTML(value='Downloading'), FloatProgress(value=0.0, max=1080169.0), HTML(value='')))"
      ]
     },
     "metadata": {},
     "output_type": "display_data"
    },
    {
     "name": "stdout",
     "output_type": "stream",
     "text": [
      "\n"
     ]
    },
    {
     "data": {
      "application/vnd.jupyter.widget-view+json": {
       "model_id": "04a22438e51140e387bff9fe43fa60a9",
       "version_major": 2,
       "version_minor": 0
      },
      "text/plain": [
       "HBox(children=(HTML(value='Downloading'), FloatProgress(value=0.0, max=802781.0), HTML(value='')))"
      ]
     },
     "metadata": {},
     "output_type": "display_data"
    },
    {
     "name": "stdout",
     "output_type": "stream",
     "text": [
      "\n"
     ]
    },
    {
     "data": {
      "application/vnd.jupyter.widget-view+json": {
       "model_id": "576e5a82ab1248c2b0039336e444a8c8",
       "version_major": 2,
       "version_minor": 0
      },
      "text/plain": [
       "HBox(children=(HTML(value='Downloading'), FloatProgress(value=0.0, max=2601758.0), HTML(value='')))"
      ]
     },
     "metadata": {},
     "output_type": "display_data"
    },
    {
     "name": "stdout",
     "output_type": "stream",
     "text": [
      "\n"
     ]
    },
    {
     "data": {
      "application/vnd.jupyter.widget-view+json": {
       "model_id": "c77c3d9b477b471ea79c27d325b981bf",
       "version_major": 2,
       "version_minor": 0
      },
      "text/plain": [
       "HBox(children=(HTML(value='Downloading'), FloatProgress(value=0.0, max=42.0), HTML(value='')))"
      ]
     },
     "metadata": {},
     "output_type": "display_data"
    },
    {
     "name": "stdout",
     "output_type": "stream",
     "text": [
      "\n"
     ]
    }
   ],
   "source": [
    "from models.marianmt import get_marianmt_tokenizer\n",
    "\n",
    "tokenizer = get_marianmt_tokenizer()\n",
    "root_data = '../data'\n",
    "src = [s.rstrip() for s in open(f\"{root_data}/corpus.en_ru.1m.ru\", \"r\").readlines()]\n",
    "tgt = [t.rstrip() for t in open(f\"{root_data}/corpus.en_ru.1m.en\", \"r\").readlines()]"
   ]
  },
  {
   "cell_type": "code",
   "execution_count": 42,
   "metadata": {},
   "outputs": [
    {
     "name": "stdout",
     "output_type": "stream",
     "text": [
      "Total size of the dataset is 1000000\n"
     ]
    }
   ],
   "source": [
    "print(f'Total size of the dataset is {len(src)}')"
   ]
  },
  {
   "cell_type": "markdown",
   "metadata": {},
   "source": [
    "Thats how translation Ru-Eng pair looks like"
   ]
  },
  {
   "cell_type": "code",
   "execution_count": 48,
   "metadata": {},
   "outputs": [
    {
     "name": "stdout",
     "output_type": "stream",
     "text": [
      "[('Такое развитие характера Гарри может разочаровать читателей, полюбивших его '\n",
      "  'былую мстительность, но с другой стороны это преображение укрепляет позицию '\n",
      "  'тех, кто не видит глубже сюжета и изображения героев.',\n",
      "  \"This new development in Harry's character may be a disappointment to those \"\n",
      "  'readers who enjoyed his old vindictive ways, but it also reinforces the '\n",
      "  'position of pro-Potter people who do not see beneath the surface appearance '\n",
      "  'of the characters and plots.'),\n",
      " ('Решение суда (группа вернулась под крыло к Elektra Entertainment) '\n",
      "  'предотвратило дальнейшие нападки со стороны неугомонного Ульриха и не '\n",
      "  'позволило ему обнародовать детали нового контракта.',\n",
      "  'A nondisclosure clause in the final settlement (the band is back on '\n",
      "  'Elektra) prevents Ulrich, an irrepressible motormouth, from providing any '\n",
      "  'juicy contractual details.'),\n",
      " ('Когда тебе 18 или 19 лет, легко перенимать бандитские повадки и переносить '\n",
      "  'их в группу.',\n",
      "  \"When you're 18 or 19 years old, you have that gang mentality in your band.\"),\n",
      " ('А сейчас куча триьютов тем же самым BLACK SABBATH и KISS.',\n",
      "  'Now you have Black Sabbath and Kiss tribute albums.'),\n",
      " ('Я был единственным, кто занялся копированием демо на кассете.',\n",
      "  'I was the one who sat down and copied them.')]\n"
     ]
    }
   ],
   "source": [
    "from pprint import pprint\n",
    "pprint(list(zip(src[:5], tgt[:5])))"
   ]
  },
  {
   "cell_type": "markdown",
   "metadata": {},
   "source": [
    "This is how the sentence looks like after the tokenizer (marianmt tokenizer in this example)"
   ]
  },
  {
   "cell_type": "code",
   "execution_count": 44,
   "metadata": {
    "scrolled": false
   },
   "outputs": [
    {
     "name": "stdout",
     "output_type": "stream",
     "text": [
      "▁Такое ▁развитие ▁характера ▁Гар ри ▁может ▁раз о ча ровать ▁читателей , ▁по люб ивших ▁его ▁был ую ▁м сти тельность , ▁но ▁с ▁другой ▁стороны ▁это ▁пре об ражение ▁укрепляет ▁позицию ▁тех , ▁кто ▁не ▁видит ▁глубже ▁с ю жет а ▁и ▁изображения ▁г еро ев . \n",
      " ▁T h is ▁ new ▁de v el op ment ▁in ▁H ar ry ' s ▁c har act er ▁m ay ▁b e ▁a ▁d is ap po int ment ▁to ▁t ho se ▁re ad ers ▁w ho ▁ en j o y ed ▁h is ▁ ol d ▁vi nd ic t ive ▁w ay s , ▁b ut ▁ it ▁al s o ▁re in for c es ▁the ▁ pos i tion ▁of ▁pro - P ot ter ▁ pe op le ▁w ho ▁ do ▁ not ▁ se e ▁b en e a th ▁the ▁s ur f ac e ▁a pp ear ance ▁of ▁the ▁c har act ers ▁and ▁p lo ts .\n"
     ]
    }
   ],
   "source": [
    "print(' '.join(tokenizer.tokenize(src[0])), '\\n', ' '.join(tokenizer.tokenize(tgt[0])))"
   ]
  },
  {
   "cell_type": "code",
   "execution_count": 45,
   "metadata": {},
   "outputs": [
    {
     "name": "stdout",
     "output_type": "stream",
     "text": [
      "Number of tokens Ru: 48. Number of chars Ru: 205\n"
     ]
    }
   ],
   "source": [
    "print(f'Number of tokens Ru: {len(tokenizer.tokenize(src[0]))}. Number of chars Ru: {len(src[0])}')"
   ]
  },
  {
   "cell_type": "code",
   "execution_count": 49,
   "metadata": {},
   "outputs": [
    {
     "name": "stdout",
     "output_type": "stream",
     "text": [
      "Number of tokens Eng: 122. Number of chars Eng: 251\n"
     ]
    }
   ],
   "source": [
    "print(f'Number of tokens Eng: {len(tokenizer.tokenize(tgt[0]))}. Number of chars Eng: {len(tgt[0])}')"
   ]
  },
  {
   "cell_type": "code",
   "execution_count": 58,
   "metadata": {},
   "outputs": [],
   "source": [
    "token_lengths_src = []\n",
    "char_lengths_src = []\n",
    "word_lengths_src = [] # tokens with ▁"
   ]
  },
  {
   "cell_type": "code",
   "execution_count": 59,
   "metadata": {},
   "outputs": [
    {
     "data": {
      "application/vnd.jupyter.widget-view+json": {
       "model_id": "d4d39c4d299f45ec821b35a13113a3cf",
       "version_major": 2,
       "version_minor": 0
      },
      "text/plain": [
       "HBox(children=(HTML(value=''), FloatProgress(value=0.0, max=1000000.0), HTML(value='')))"
      ]
     },
     "metadata": {},
     "output_type": "display_data"
    },
    {
     "name": "stdout",
     "output_type": "stream",
     "text": [
      "\n"
     ]
    }
   ],
   "source": [
    "for s in tqdm(src):\n",
    "    char_lengths_src.append(len(s))\n",
    "    \n",
    "    tokenized = tokenizer.tokenize(s)\n",
    "    token_lengths_src.append(len(tokenized))\n",
    "    word_lengths_src.append(len([t for t in tokenized if '▁' in t]))"
   ]
  },
  {
   "cell_type": "code",
   "execution_count": 60,
   "metadata": {},
   "outputs": [],
   "source": [
    "token_lengths_tgt = []\n",
    "char_lengths_tgt = []\n",
    "word_lengths_tgt = [] # tokens with ▁"
   ]
  },
  {
   "cell_type": "code",
   "execution_count": 61,
   "metadata": {},
   "outputs": [
    {
     "data": {
      "application/vnd.jupyter.widget-view+json": {
       "model_id": "6a956ef842754f6cbc621795c7911a40",
       "version_major": 2,
       "version_minor": 0
      },
      "text/plain": [
       "HBox(children=(HTML(value=''), FloatProgress(value=0.0, max=1000000.0), HTML(value='')))"
      ]
     },
     "metadata": {},
     "output_type": "display_data"
    },
    {
     "name": "stdout",
     "output_type": "stream",
     "text": [
      "\n"
     ]
    }
   ],
   "source": [
    "for s in tqdm(tgt):\n",
    "    char_lengths_tgt.append(len(s))\n",
    "    \n",
    "    tokenized = tokenizer.tokenize(s)\n",
    "    token_lengths_tgt.append(len(tokenized))\n",
    "    word_lengths_tgt.append(len([t for t in tokenized if '▁' in t]))"
   ]
  },
  {
   "cell_type": "markdown",
   "metadata": {},
   "source": [
    "# Length analysis\n",
    "\n",
    "Let's analyze the lengths of our training data\n",
    "\n",
    "* **Token length** is the amount of tokens in the tokenized sentence\n",
    "* **Char length** is the amount of characters in the original sentence\n",
    "* **Word length** is the amount of words in the tokenized sentence (e.g. the amount '▁' symbols in the sentence for our tokenizer)"
   ]
  },
  {
   "cell_type": "code",
   "execution_count": 64,
   "metadata": {},
   "outputs": [],
   "source": [
    "import seaborn as sns"
   ]
  },
  {
   "cell_type": "markdown",
   "metadata": {},
   "source": [
    "### SRC token length"
   ]
  },
  {
   "cell_type": "code",
   "execution_count": 88,
   "metadata": {},
   "outputs": [
    {
     "data": {
      "image/png": "[encoded data removed]",
      "text/plain": [
       "<Figure size 432x288 with 1 Axes>"
      ]
     },
     "metadata": {
      "needs_background": "light"
     },
     "output_type": "display_data"
    }
   ],
   "source": [
    "plt.title('Token length')\n",
    "sns.histplot(token_lengths_src, bins=50)\n",
    "plt.show()"
   ]
  },
  {
   "cell_type": "markdown",
   "metadata": {},
   "source": [
    "### TGT token length"
   ]
  },
  {
   "cell_type": "code",
   "execution_count": 85,
   "metadata": {},
   "outputs": [
    {
     "data": {
      "image/png": "[encoded data removed]",
      "text/plain": [
       "<Figure size 432x288 with 1 Axes>"
      ]
     },
     "metadata": {
      "needs_background": "light"
     },
     "output_type": "display_data"
    }
   ],
   "source": [
    "plt.title('Token length')\n",
    "sns.histplot(token_lengths_tgt, bins=50)\n",
    "plt.show()"
   ]
  },
  {
   "cell_type": "markdown",
   "metadata": {},
   "source": [
    "As we can see, the total amount of tokens is bigger in english sentence, then in the russian. Maybe the tokenizer splitting is more optimized for the Russian language"
   ]
  },
  {
   "cell_type": "markdown",
   "metadata": {},
   "source": [
    "### SRC char length"
   ]
  },
  {
   "cell_type": "code",
   "execution_count": 87,
   "metadata": {},
   "outputs": [
    {
     "data": {
      "image/png": "[encoded data removed]",
      "text/plain": [
       "<Figure size 432x288 with 1 Axes>"
      ]
     },
     "metadata": {
      "needs_background": "light"
     },
     "output_type": "display_data"
    }
   ],
   "source": [
    "plt.title('Char length')\n",
    "sns.histplot(char_lengths_src, bins=50)\n",
    "plt.show()"
   ]
  },
  {
   "cell_type": "markdown",
   "metadata": {},
   "source": [
    "### TGT char length"
   ]
  },
  {
   "cell_type": "code",
   "execution_count": 84,
   "metadata": {},
   "outputs": [
    {
     "data": {
      "image/png": "[encoded data removed]",
      "text/plain": [
       "<Figure size 432x288 with 1 Axes>"
      ]
     },
     "metadata": {
      "needs_background": "light"
     },
     "output_type": "display_data"
    }
   ],
   "source": [
    "plt.title('Char length')\n",
    "sns.histplot(char_lengths_tgt, bins=50)\n",
    "plt.show()"
   ]
  },
  {
   "cell_type": "markdown",
   "metadata": {},
   "source": [
    "Our previous claim is confirmed by the amount of characters, as they are very similar, but the amount of tokens is bigger 2x times"
   ]
  },
  {
   "cell_type": "markdown",
   "metadata": {},
   "source": [
    "### SRC word length"
   ]
  },
  {
   "cell_type": "code",
   "execution_count": 86,
   "metadata": {},
   "outputs": [
    {
     "data": {
      "image/png": "[encoded data removed]",
      "text/plain": [
       "<Figure size 432x288 with 1 Axes>"
      ]
     },
     "metadata": {
      "needs_background": "light"
     },
     "output_type": "display_data"
    }
   ],
   "source": [
    "plt.title('Word length')\n",
    "sns.histplot(word_lengths_src, bins=50)\n",
    "plt.show()"
   ]
  },
  {
   "cell_type": "markdown",
   "metadata": {},
   "source": [
    "### TGT word length"
   ]
  },
  {
   "cell_type": "code",
   "execution_count": 83,
   "metadata": {},
   "outputs": [
    {
     "data": {
      "image/png": "[encoded data removed]",
      "text/plain": [
       "<Figure size 432x288 with 1 Axes>"
      ]
     },
     "metadata": {
      "needs_background": "light"
     },
     "output_type": "display_data"
    }
   ],
   "source": [
    "plt.title('Word length')\n",
    "sns.histplot(word_lengths_tgt, bins=50)\n",
    "plt.show()"
   ]
  },
  {
   "cell_type": "markdown",
   "metadata": {},
   "source": [
    "The distribution of amount of words is also similar between RU and ENG"
   ]
  },
  {
   "cell_type": "code",
   "execution_count": null,
   "metadata": {},
   "outputs": [],
   "source": []
  }
 ],
 "metadata": {
  "kernelspec": {
   "display_name": "Python 3",
   "language": "python",
   "name": "python3"
  },
  "language_info": {
   "codemirror_mode": {
    "name": "ipython",
    "version": 3
   },
   "file_extension": ".py",
   "mimetype": "text/x-python",
   "name": "python",
   "nbconvert_exporter": "python",
   "pygments_lexer": "ipython3",
   "version": "3.8.5"
  }
 },
 "nbformat": 4,
 "nbformat_minor": 4
}
